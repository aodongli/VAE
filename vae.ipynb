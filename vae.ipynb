{
 "cells": [
  {
   "cell_type": "code",
   "execution_count": 1,
   "metadata": {},
   "outputs": [],
   "source": [
    "import tensorflow as tf\n",
    "import numpy as np\n",
    "\n",
    "# toy dataset\n",
    "from sklearn.datasets import load_digits \n",
    "import matplotlib.pyplot as plt \n",
    "\n",
    "full_conn = tf.contrib.layers.fully_connected\n",
    "\n",
    "distributions = tf.contrib.distributions\n",
    "\n",
    "tf.app.flags.DEFINE_integer(\"latent_dims\", 2, \"Latent dimensions.\")\n",
    "tf.app.flags.DEFINE_integer(\"hidden_size\", 10,\n",
    "                          \"Hidden size of fully connected layer.\")\n",
    "tf.app.flags.DEFINE_integer(\"batch_size\", 64,\n",
    "                          \"Minibatch size.\")\n",
    "\n",
    "FLAGS = tf.app.flags.FLAGS"
   ]
  },
  {
   "cell_type": "code",
   "execution_count": 3,
   "metadata": {
    "collapsed": true
   },
   "outputs": [],
   "source": [
    "def inference_net(x, latent_dim, hidden_size):\n",
    "    with tf.variable_scope('inference_network'):\n",
    "        net = full_conn(x, hidden_size)\n",
    "        gaussian_param = full_conn(net, latent_dim * 2, activation_fn=None)\n",
    "        mu = gaussian_param(:, :latent_dim)\n",
    "        sigma = gaussian_param(:, latent_dim:)\n",
    "    return mu, sigma\n",
    "\n",
    "def generative_net(z, hidden_size):\n",
    "    with tf.variable_scope('generative_network'):\n",
    "        net = full_conn(z, hidden_size)\n",
    "        gaussian_param = full_conn(net, 64 * 2, activation_fn=None)\n",
    "        mu = gaussian_param(:, :64)\n",
    "        sigma = gaussian_param(:, 64:)\n",
    "    return bernoulli_logits\n",
    "\n",
    "def model():\n",
    "    with tf.variable_scope('model', reuse=True):\n",
    "        with tf.variable_scope('inference'):\n",
    "            x = tf.placeholder(tf.float32, [None, 64])\n",
    "            mu, sigma = inference_net(x, FLAGS.latent_dim, FLAGS.hidden_size)\n",
    "        q_z_given_x = distributions.Normal(loc=mu, scale=sigma)\n",
    "        mu_l, sigma_l = generative_net(q_z_given_x.sample(), FLAGS.latent_dim, FLAGS.hidden_size)\n",
    "        p_x_given_z = distributions.Normal(loc=mu_l, scale=sigma_l)\n",
    "        p_x_given_z_samples = p_x_given_z.sample()\n",
    "     return x, p_x_given_z_samples"
   ]
  },
  {
   "cell_type": "code",
   "execution_count": 4,
   "metadata": {},
   "outputs": [
    {
     "ename": "SyntaxError",
     "evalue": "unexpected EOF while parsing (<ipython-input-4-2d66facce087>, line 1)",
     "output_type": "error",
     "traceback": [
      "\u001b[0;36m  File \u001b[0;32m\"<ipython-input-4-2d66facce087>\"\u001b[0;36m, line \u001b[0;32m1\u001b[0m\n\u001b[0;31m    def train():\u001b[0m\n\u001b[0m                ^\u001b[0m\n\u001b[0;31mSyntaxError\u001b[0m\u001b[0;31m:\u001b[0m unexpected EOF while parsing\n"
     ]
    }
   ],
   "source": [
    "def train():\n",
    "    "
   ]
  },
  {
   "cell_type": "code",
   "execution_count": 2,
   "metadata": {},
   "outputs": [
    {
     "data": {
      "text/plain": [
       "<matplotlib.figure.Figure at 0x1233776d0>"
      ]
     },
     "metadata": {},
     "output_type": "display_data"
    },
    {
     "data": {
      "image/png": "[encoded data removed]",
      "text/plain": [
       "<matplotlib.figure.Figure at 0x1238f8510>"
      ]
     },
     "metadata": {},
     "output_type": "display_data"
    },
    {
     "ename": "SystemExit",
     "evalue": "",
     "output_type": "error",
     "traceback": [
      "An exception has occurred, use %tb to see the full traceback.\n",
      "\u001b[0;31mSystemExit\u001b[0m\n"
     ]
    },
    {
     "name": "stderr",
     "output_type": "stream",
     "text": [
      "/anaconda/lib/python2.7/site-packages/IPython/core/interactiveshell.py:2889: UserWarning: To exit: use 'exit', 'quit', or Ctrl-D.\n",
      "  warn(\"To exit: use 'exit', 'quit', or Ctrl-D.\", stacklevel=1)\n"
     ]
    }
   ],
   "source": [
    "def main(_):\n",
    "    # http://scikit-learn.org/stable/modules/generated/sklearn.datasets.load_digits.html#sklearn.datasets.load_digits\n",
    "    (_data, _target) = load_digits(n_class = 2, return_X_y = True)\n",
    "    \n",
    "    image = np.split(_data[0], 8)\n",
    "    plt.gray() \n",
    "    plt.matshow(image) \n",
    "    plt.show() \n",
    "    \n",
    "    exit\n",
    "\n",
    "\n",
    "if __name__ == '__main__':\n",
    "    tf.app.run()"
   ]
  }
 ],
 "metadata": {
  "kernelspec": {
   "display_name": "Python 2",
   "language": "python",
   "name": "python2"
  },
  "language_info": {
   "codemirror_mode": {
    "name": "ipython",
    "version": 2
   },
   "file_extension": ".py",
   "mimetype": "text/x-python",
   "name": "python",
   "nbconvert_exporter": "python",
   "pygments_lexer": "ipython2",
   "version": "2.7.13"
  }
 },
 "nbformat": 4,
 "nbformat_minor": 2
}
